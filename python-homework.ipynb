{
 "cells": [
  {
   "cell_type": "code",
   "execution_count": 1,
   "id": "541ae80f-ce05-428d-a888-3f3789a3e836",
   "metadata": {
    "tags": []
   },
   "outputs": [],
   "source": [
    "import pandas as pd"
   ]
  },
  {
   "cell_type": "code",
   "execution_count": 9,
   "id": "a256b04e-a926-4d61-8709-af913711645d",
   "metadata": {
    "tags": []
   },
   "outputs": [],
   "source": [
    "# Load the CSV file into a DataFrame\n",
    "file_path = 'budget_data.csv'\n",
    "df = pd.read_csv(file_path)"
   ]
  },
  {
   "cell_type": "code",
   "execution_count": 10,
   "id": "fd30c4af-99f5-40a7-802f-7a09a188d73f",
   "metadata": {
    "tags": []
   },
   "outputs": [],
   "source": [
    "# Calculate the total number of months\n",
    "total_months = len(df)"
   ]
  },
  {
   "cell_type": "code",
   "execution_count": 11,
   "id": "7b8d62fd-2f3d-4b51-bc91-d84c2cd903a3",
   "metadata": {
    "tags": []
   },
   "outputs": [],
   "source": [
    "# Calculate the net total amount of Profit/Losses\n",
    "net_total = df['Profit/Losses'].sum()"
   ]
  },
  {
   "cell_type": "code",
   "execution_count": 12,
   "id": "6bc2a2ef-a66f-492c-9047-704884a52b93",
   "metadata": {
    "tags": []
   },
   "outputs": [],
   "source": [
    "# Calculate the changes in Profit/Losses and find the average change\n",
    "df['Change'] = df['Profit/Losses'].diff()\n",
    "average_change = df['Change'].mean()"
   ]
  },
  {
   "cell_type": "code",
   "execution_count": 13,
   "id": "1b5e8d32-48b3-4b9b-a5d1-868d58dd2e88",
   "metadata": {
    "tags": []
   },
   "outputs": [],
   "source": [
    "# Find the greatest increase and decrease in profits\n",
    "greatest_increase = df.loc[df['Change'].idxmax()]\n",
    "greatest_decrease = df.loc[df['Change'].idxmin()]"
   ]
  },
  {
   "cell_type": "code",
   "execution_count": 24,
   "id": "5503ee3b-c7ab-47e2-894b-57d1799393a1",
   "metadata": {
    "tags": []
   },
   "outputs": [],
   "source": [
    "# Format the output\n",
    "analysis_result = f'''\n",
    "Financial Analysis\n",
    "----------------------------\n",
    "Total Months: {total_months}\n",
    "Total: ${net_total:,.2f}\n",
    "Average Change: ${average_change:,.2f}\n",
    "Greatest Increase in Profits: {greatest_increase['Date']} (${greatest_increase['Change']:,.2f})\n",
    "Greatest Decrease in Profits: {greatest_decrease['Date']} (${greatest_decrease['Change']:,.2f})\n",
    "'''\n"
   ]
  },
  {
   "cell_type": "code",
   "execution_count": 25,
   "id": "7a305d1b-b1ae-4f37-b5bf-2aec4410f124",
   "metadata": {
    "tags": []
   },
   "outputs": [
    {
     "name": "stdout",
     "output_type": "stream",
     "text": [
      "\n",
      "Financial Analysis\n",
      "----------------------------\n",
      "Total Months: 86\n",
      "Total: $38,382,578.00\n",
      "Average Change: $-2,315.12\n",
      "Greatest Increase in Profits: Feb-2012 ($1,926,159.00)\n",
      "Greatest Decrease in Profits: Sep-2013 ($-2,196,167.00)\n",
      "\n"
     ]
    }
   ],
   "source": [
    "print(analysis_result)\n"
   ]
  },
  {
   "cell_type": "code",
   "execution_count": null,
   "id": "8c962238-8809-4999-b902-cf2a2cb05a0f",
   "metadata": {},
   "outputs": [],
   "source": []
  }
 ],
 "metadata": {
  "kernelspec": {
   "display_name": "Python 3 (ipykernel)",
   "language": "python",
   "name": "python3"
  },
  "language_info": {
   "codemirror_mode": {
    "name": "ipython",
    "version": 3
   },
   "file_extension": ".py",
   "mimetype": "text/x-python",
   "name": "python",
   "nbconvert_exporter": "python",
   "pygments_lexer": "ipython3",
   "version": "3.11.4"
  }
 },
 "nbformat": 4,
 "nbformat_minor": 5
}
