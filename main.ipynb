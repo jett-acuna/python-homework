{
 "cells": [
  {
   "cell_type": "code",
   "execution_count": 41,
   "id": "e7d20df1-c730-4194-a207-8f1ec194ff0f",
   "metadata": {
    "tags": []
   },
   "outputs": [],
   "source": [
    "import csv"
   ]
  },
  {
   "cell_type": "code",
   "execution_count": 42,
   "id": "3ee4c67b-4791-4cf8-a568-a6631173ae7a",
   "metadata": {
    "tags": []
   },
   "outputs": [],
   "source": [
    "# Read CSV Path\n",
    "csv_path = 'budget_data.csv'\n"
   ]
  },
  {
   "cell_type": "code",
   "execution_count": 60,
   "id": "f0b01a62-ded4-4789-a775-da8934d3b515",
   "metadata": {
    "tags": []
   },
   "outputs": [],
   "source": [
    "# Initialize variables to store the analysis results\n",
    "total_months = 0\n",
    "net_total = 0\n",
    "prev_profit = None\n",
    "total_change = 0\n",
    "greatest_increase_date = ''\n",
    "greatest_increase_amount = float('-inf')\n",
    "greatest_decrease_date = ''\n",
    "greatest_decrease_amount = float('inf')"
   ]
  },
  {
   "cell_type": "code",
   "execution_count": 61,
   "id": "fe979a0b-8d35-4493-b788-9b8d927148ab",
   "metadata": {
    "tags": []
   },
   "outputs": [],
   "source": [
    "# Read the CSV file and calculate the required metrics\n",
    "with open(csv_path, 'r') as file:\n",
    "    csv_reader = csv.reader(file)\n",
    "    next(csv_reader)\n",
    "\n",
    "    for row in csv_reader:\n",
    "        date = row[0]\n",
    "        profit = int(row[1])"
   ]
  },
  {
   "cell_type": "code",
   "execution_count": 62,
   "id": "29dbcdd4-0fbd-4847-96bd-1f43003e9ad0",
   "metadata": {
    "tags": []
   },
   "outputs": [],
   "source": [
    " # Calculate total months and net total\n",
    "total_months += 1\n",
    "net_total += profit"
   ]
  },
  {
   "cell_type": "code",
   "execution_count": 63,
   "id": "335283c0-8cca-4e46-8fec-31fa84e1fdcd",
   "metadata": {
    "tags": []
   },
   "outputs": [],
   "source": [
    "# Calculate chang in profit\n",
    "if prev_profit is not None:\n",
    "    change = profit - prev_profit\n",
    "    total_change += change\n",
    "\n",
    "# Identify the greatest increase and decrease\n",
    "if change > greatest_increase_amount:\n",
    "    greatest_increase_amount = change\n",
    "    greatest_increase_date = date\n",
    "    \n",
    "if change < greatest_decrease_amount:\n",
    "    greatest_decrease_amount = change\n",
    "    greatest_decrease_date = date\n",
    "    \n",
    "prev_profit = profit"
   ]
  },
  {
   "cell_type": "code",
   "execution_count": 64,
   "id": "d07f78b9-a207-43b5-ac16-5a15d01d8789",
   "metadata": {
    "tags": []
   },
   "outputs": [],
   "source": [
    "# Calculate the avg change\n",
    "average_change = total_change / (total_months - 1) if total_months > 1 else 0"
   ]
  },
  {
   "cell_type": "code",
   "execution_count": 65,
   "id": "e2cd84a2-294d-4189-8a07-42546ff5a05d",
   "metadata": {
    "tags": []
   },
   "outputs": [
    {
     "name": "stdout",
     "output_type": "stream",
     "text": [
      "Financial Analysis\n",
      "----------------------------\n",
      "Total Months: 1\n",
      "Total: $671099\n",
      "Average Change: $0.00\n",
      "Greatest Increase in Profits: Feb-2017 ($0)\n",
      "Greatest Decrease in Profits: Feb-2017 ($0)\n"
     ]
    }
   ],
   "source": [
    "# Print the financial analysis\n",
    "print(\"Financial Analysis\")\n",
    "print(\"----------------------------\")\n",
    "print(f\"Total Months: {total_months}\")\n",
    "print(f\"Total: ${net_total}\")\n",
    "print(f\"Average Change: ${average_change:.2f}\")\n",
    "print(f\"Greatest Increase in Profits: {greatest_increase_date} (${greatest_increase_amount})\")\n",
    "print(f\"Greatest Decrease in Profits: {greatest_decrease_date} (${greatest_decrease_amount})\")"
   ]
  },
  {
   "cell_type": "code",
   "execution_count": null,
   "id": "3c3049e4-7fc9-418c-85a4-8fd0f9f44087",
   "metadata": {},
   "outputs": [],
   "source": []
  },
  {
   "cell_type": "code",
   "execution_count": null,
   "id": "2c9a4e9f-d5d8-4ebe-8823-e65a063f7a9d",
   "metadata": {},
   "outputs": [],
   "source": []
  }
 ],
 "metadata": {
  "kernelspec": {
   "display_name": "Python 3 (ipykernel)",
   "language": "python",
   "name": "python3"
  },
  "language_info": {
   "codemirror_mode": {
    "name": "ipython",
    "version": 3
   },
   "file_extension": ".py",
   "mimetype": "text/x-python",
   "name": "python",
   "nbconvert_exporter": "python",
   "pygments_lexer": "ipython3",
   "version": "3.11.4"
  }
 },
 "nbformat": 4,
 "nbformat_minor": 5
}
